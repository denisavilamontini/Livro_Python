{
  "nbformat": 4,
  "nbformat_minor": 0,
  "metadata": {
    "colab": {
      "name": "C13-Estatistica.ipynb",
      "provenance": [],
      "collapsed_sections": [],
      "authorship_tag": "ABX9TyPMsGjAE5zIUH/9o0aGxVCW",
      "include_colab_link": true
    },
    "kernelspec": {
      "name": "python3",
      "display_name": "Python 3"
    },
    "language_info": {
      "name": "python"
    },
    "accelerator": "GPU"
  },
  "cells": [
    {
      "cell_type": "markdown",
      "metadata": {
        "id": "view-in-github",
        "colab_type": "text"
      },
      "source": [
        "<a href=\"https://colab.research.google.com/github/denisavilamontini/Livro_Python/blob/main/C13_Estatistica.ipynb\" target=\"_parent\"><img src=\"https://colab.research.google.com/assets/colab-badge.svg\" alt=\"Open In Colab\"/></a>"
      ]
    },
    {
      "cell_type": "markdown",
      "metadata": {
        "id": "fS3_IGFXywme"
      },
      "source": [
        "**0.3 Importação das bibliotecas e pacotes a serem utilizados.**"
      ]
    },
    {
      "cell_type": "markdown",
      "metadata": {
        "id": "VLYxEFWlJXRa"
      },
      "source": [
        "**0.3.1 – Instale a seguinte lista de pacotes  e biliotecas.**"
      ]
    },
    {
      "cell_type": "code",
      "metadata": {
        "id": "GCtHXP4ey4d1",
        "colab": {
          "base_uri": "https://localhost:8080/"
        },
        "outputId": "1afee4bd-3fbc-415d-8e59-5e1cdf8f4073"
      },
      "source": [
        "import time\n",
        "print(time.ctime())"
      ],
      "execution_count": 3,
      "outputs": [
        {
          "output_type": "stream",
          "name": "stdout",
          "text": [
            "Sun Nov 21 16:37:21 2021\n"
          ]
        }
      ]
    },
    {
      "cell_type": "code",
      "metadata": {
        "id": "KkNE3PetY3Kg",
        "colab": {
          "base_uri": "https://localhost:8080/"
        },
        "outputId": "e54b5aff-48d7-4ea5-97a7-ba4d69299d87"
      },
      "source": [
        "time.sleep(10)\n",
        "print (time.ctime())\n"
      ],
      "execution_count": 4,
      "outputs": [
        {
          "output_type": "stream",
          "name": "stdout",
          "text": [
            "Sun Nov 21 16:37:33 2021\n"
          ]
        }
      ]
    },
    {
      "cell_type": "code",
      "metadata": {
        "id": "OQZmGCdthJ9Z",
        "colab": {
          "base_uri": "https://localhost:8080/"
        },
        "outputId": "e5abbe10-7294-45d5-eb23-8527280ca9f2"
      },
      "source": [
        "pip install Keras"
      ],
      "execution_count": 5,
      "outputs": [
        {
          "output_type": "stream",
          "name": "stdout",
          "text": [
            "Requirement already satisfied: Keras in /usr/local/lib/python3.7/dist-packages (2.7.0)\n"
          ]
        }
      ]
    },
    {
      "cell_type": "code",
      "metadata": {
        "id": "X8NQ4i2fiQO3",
        "colab": {
          "base_uri": "https://localhost:8080/"
        },
        "outputId": "ec95cb56-8f63-4fe1-ad5c-4cf589aca41b"
      },
      "source": [
        "!pip3 install torch torchvision"
      ],
      "execution_count": 6,
      "outputs": [
        {
          "output_type": "stream",
          "name": "stdout",
          "text": [
            "Requirement already satisfied: torch in /usr/local/lib/python3.7/dist-packages (1.10.0+cu111)\n",
            "Requirement already satisfied: torchvision in /usr/local/lib/python3.7/dist-packages (0.11.1+cu111)\n",
            "Requirement already satisfied: typing-extensions in /usr/local/lib/python3.7/dist-packages (from torch) (3.10.0.2)\n",
            "Requirement already satisfied: pillow!=8.3.0,>=5.3.0 in /usr/local/lib/python3.7/dist-packages (from torchvision) (7.1.2)\n",
            "Requirement already satisfied: numpy in /usr/local/lib/python3.7/dist-packages (from torchvision) (1.19.5)\n"
          ]
        }
      ]
    },
    {
      "cell_type": "code",
      "metadata": {
        "id": "_cYsjwp7kRns",
        "colab": {
          "base_uri": "https://localhost:8080/"
        },
        "outputId": "ef8b3a83-d3dd-4ebb-964c-881c6b83a768"
      },
      "source": [
        "!pip install mxnet-cu80"
      ],
      "execution_count": 7,
      "outputs": [
        {
          "output_type": "stream",
          "name": "stdout",
          "text": [
            "Collecting mxnet-cu80\n",
            "  Downloading mxnet_cu80-1.5.0-py2.py3-none-manylinux1_x86_64.whl (372.1 MB)\n",
            "\u001b[K     |████████████████████████████████| 372.1 MB 20 kB/s \n",
            "\u001b[?25hRequirement already satisfied: requests<3,>=2.20.0 in /usr/local/lib/python3.7/dist-packages (from mxnet-cu80) (2.23.0)\n",
            "Collecting graphviz<0.9.0,>=0.8.1\n",
            "  Downloading graphviz-0.8.4-py2.py3-none-any.whl (16 kB)\n",
            "Requirement already satisfied: numpy<2.0.0,>1.16.0 in /usr/local/lib/python3.7/dist-packages (from mxnet-cu80) (1.19.5)\n",
            "Requirement already satisfied: certifi>=2017.4.17 in /usr/local/lib/python3.7/dist-packages (from requests<3,>=2.20.0->mxnet-cu80) (2021.10.8)\n",
            "Requirement already satisfied: urllib3!=1.25.0,!=1.25.1,<1.26,>=1.21.1 in /usr/local/lib/python3.7/dist-packages (from requests<3,>=2.20.0->mxnet-cu80) (1.24.3)\n",
            "Requirement already satisfied: chardet<4,>=3.0.2 in /usr/local/lib/python3.7/dist-packages (from requests<3,>=2.20.0->mxnet-cu80) (3.0.4)\n",
            "Requirement already satisfied: idna<3,>=2.5 in /usr/local/lib/python3.7/dist-packages (from requests<3,>=2.20.0->mxnet-cu80) (2.10)\n",
            "Installing collected packages: graphviz, mxnet-cu80\n",
            "  Attempting uninstall: graphviz\n",
            "    Found existing installation: graphviz 0.10.1\n",
            "    Uninstalling graphviz-0.10.1:\n",
            "      Successfully uninstalled graphviz-0.10.1\n",
            "Successfully installed graphviz-0.8.4 mxnet-cu80-1.5.0\n"
          ]
        }
      ]
    },
    {
      "cell_type": "code",
      "metadata": {
        "id": "R14dDVDOqFxs",
        "colab": {
          "base_uri": "https://localhost:8080/"
        },
        "outputId": "b88330c0-3f8d-4335-d5a0-69ca950b7b44"
      },
      "source": [
        "pip install opencv-python"
      ],
      "execution_count": 8,
      "outputs": [
        {
          "output_type": "stream",
          "name": "stdout",
          "text": [
            "Requirement already satisfied: opencv-python in /usr/local/lib/python3.7/dist-packages (4.1.2.30)\n",
            "Requirement already satisfied: numpy>=1.14.5 in /usr/local/lib/python3.7/dist-packages (from opencv-python) (1.19.5)\n"
          ]
        }
      ]
    },
    {
      "cell_type": "code",
      "metadata": {
        "id": "om24EPr2tbdn",
        "colab": {
          "base_uri": "https://localhost:8080/"
        },
        "outputId": "34ef716f-49ee-42d6-f23e-289926b0b312"
      },
      "source": [
        "!pip install -q xgboost==0.4a30"
      ],
      "execution_count": 9,
      "outputs": [
        {
          "output_type": "stream",
          "name": "stdout",
          "text": [
            "\u001b[?25l\r\u001b[K     |▍                               | 10 kB 29.8 MB/s eta 0:00:01\r\u001b[K     |▉                               | 20 kB 30.6 MB/s eta 0:00:01\r\u001b[K     |█▎                              | 30 kB 35.5 MB/s eta 0:00:01\r\u001b[K     |█▊                              | 40 kB 37.0 MB/s eta 0:00:01\r\u001b[K     |██▏                             | 51 kB 32.3 MB/s eta 0:00:01\r\u001b[K     |██▋                             | 61 kB 33.3 MB/s eta 0:00:01\r\u001b[K     |███                             | 71 kB 26.9 MB/s eta 0:00:01\r\u001b[K     |███▌                            | 81 kB 28.7 MB/s eta 0:00:01\r\u001b[K     |████                            | 92 kB 30.0 MB/s eta 0:00:01\r\u001b[K     |████▍                           | 102 kB 28.7 MB/s eta 0:00:01\r\u001b[K     |████▉                           | 112 kB 28.7 MB/s eta 0:00:01\r\u001b[K     |█████▏                          | 122 kB 28.7 MB/s eta 0:00:01\r\u001b[K     |█████▋                          | 133 kB 28.7 MB/s eta 0:00:01\r\u001b[K     |██████                          | 143 kB 28.7 MB/s eta 0:00:01\r\u001b[K     |██████▌                         | 153 kB 28.7 MB/s eta 0:00:01\r\u001b[K     |███████                         | 163 kB 28.7 MB/s eta 0:00:01\r\u001b[K     |███████▍                        | 174 kB 28.7 MB/s eta 0:00:01\r\u001b[K     |███████▉                        | 184 kB 28.7 MB/s eta 0:00:01\r\u001b[K     |████████▎                       | 194 kB 28.7 MB/s eta 0:00:01\r\u001b[K     |████████▊                       | 204 kB 28.7 MB/s eta 0:00:01\r\u001b[K     |█████████▏                      | 215 kB 28.7 MB/s eta 0:00:01\r\u001b[K     |█████████▋                      | 225 kB 28.7 MB/s eta 0:00:01\r\u001b[K     |██████████                      | 235 kB 28.7 MB/s eta 0:00:01\r\u001b[K     |██████████▍                     | 245 kB 28.7 MB/s eta 0:00:01\r\u001b[K     |██████████▉                     | 256 kB 28.7 MB/s eta 0:00:01\r\u001b[K     |███████████▎                    | 266 kB 28.7 MB/s eta 0:00:01\r\u001b[K     |███████████▊                    | 276 kB 28.7 MB/s eta 0:00:01\r\u001b[K     |████████████▏                   | 286 kB 28.7 MB/s eta 0:00:01\r\u001b[K     |████████████▋                   | 296 kB 28.7 MB/s eta 0:00:01\r\u001b[K     |█████████████                   | 307 kB 28.7 MB/s eta 0:00:01\r\u001b[K     |█████████████▌                  | 317 kB 28.7 MB/s eta 0:00:01\r\u001b[K     |██████████████                  | 327 kB 28.7 MB/s eta 0:00:01\r\u001b[K     |██████████████▍                 | 337 kB 28.7 MB/s eta 0:00:01\r\u001b[K     |██████████████▉                 | 348 kB 28.7 MB/s eta 0:00:01\r\u001b[K     |███████████████▏                | 358 kB 28.7 MB/s eta 0:00:01\r\u001b[K     |███████████████▋                | 368 kB 28.7 MB/s eta 0:00:01\r\u001b[K     |████████████████                | 378 kB 28.7 MB/s eta 0:00:01\r\u001b[K     |████████████████▌               | 389 kB 28.7 MB/s eta 0:00:01\r\u001b[K     |█████████████████               | 399 kB 28.7 MB/s eta 0:00:01\r\u001b[K     |█████████████████▍              | 409 kB 28.7 MB/s eta 0:00:01\r\u001b[K     |█████████████████▉              | 419 kB 28.7 MB/s eta 0:00:01\r\u001b[K     |██████████████████▎             | 430 kB 28.7 MB/s eta 0:00:01\r\u001b[K     |██████████████████▊             | 440 kB 28.7 MB/s eta 0:00:01\r\u001b[K     |███████████████████▏            | 450 kB 28.7 MB/s eta 0:00:01\r\u001b[K     |███████████████████▋            | 460 kB 28.7 MB/s eta 0:00:01\r\u001b[K     |████████████████████            | 471 kB 28.7 MB/s eta 0:00:01\r\u001b[K     |████████████████████▍           | 481 kB 28.7 MB/s eta 0:00:01\r\u001b[K     |████████████████████▉           | 491 kB 28.7 MB/s eta 0:00:01\r\u001b[K     |█████████████████████▎          | 501 kB 28.7 MB/s eta 0:00:01\r\u001b[K     |█████████████████████▊          | 512 kB 28.7 MB/s eta 0:00:01\r\u001b[K     |██████████████████████▏         | 522 kB 28.7 MB/s eta 0:00:01\r\u001b[K     |██████████████████████▋         | 532 kB 28.7 MB/s eta 0:00:01\r\u001b[K     |███████████████████████         | 542 kB 28.7 MB/s eta 0:00:01\r\u001b[K     |███████████████████████▌        | 552 kB 28.7 MB/s eta 0:00:01\r\u001b[K     |████████████████████████        | 563 kB 28.7 MB/s eta 0:00:01\r\u001b[K     |████████████████████████▍       | 573 kB 28.7 MB/s eta 0:00:01\r\u001b[K     |████████████████████████▉       | 583 kB 28.7 MB/s eta 0:00:01\r\u001b[K     |█████████████████████████▏      | 593 kB 28.7 MB/s eta 0:00:01\r\u001b[K     |█████████████████████████▋      | 604 kB 28.7 MB/s eta 0:00:01\r\u001b[K     |██████████████████████████      | 614 kB 28.7 MB/s eta 0:00:01\r\u001b[K     |██████████████████████████▌     | 624 kB 28.7 MB/s eta 0:00:01\r\u001b[K     |███████████████████████████     | 634 kB 28.7 MB/s eta 0:00:01\r\u001b[K     |███████████████████████████▍    | 645 kB 28.7 MB/s eta 0:00:01\r\u001b[K     |███████████████████████████▉    | 655 kB 28.7 MB/s eta 0:00:01\r\u001b[K     |████████████████████████████▎   | 665 kB 28.7 MB/s eta 0:00:01\r\u001b[K     |████████████████████████████▊   | 675 kB 28.7 MB/s eta 0:00:01\r\u001b[K     |█████████████████████████████▏  | 686 kB 28.7 MB/s eta 0:00:01\r\u001b[K     |█████████████████████████████▋  | 696 kB 28.7 MB/s eta 0:00:01\r\u001b[K     |██████████████████████████████  | 706 kB 28.7 MB/s eta 0:00:01\r\u001b[K     |██████████████████████████████▍ | 716 kB 28.7 MB/s eta 0:00:01\r\u001b[K     |██████████████████████████████▉ | 727 kB 28.7 MB/s eta 0:00:01\r\u001b[K     |███████████████████████████████▎| 737 kB 28.7 MB/s eta 0:00:01\r\u001b[K     |███████████████████████████████▊| 747 kB 28.7 MB/s eta 0:00:01\r\u001b[K     |████████████████████████████████| 753 kB 28.7 MB/s \n",
            "\u001b[?25h  Building wheel for xgboost (setup.py) ... \u001b[?25l\u001b[?25hdone\n"
          ]
        }
      ]
    },
    {
      "cell_type": "code",
      "metadata": {
        "id": "XxtfecSExNV2"
      },
      "source": [
        "!apt-get -qq install -y graphviz && pip install -q pydot"
      ],
      "execution_count": 10,
      "outputs": []
    },
    {
      "cell_type": "code",
      "metadata": {
        "id": "AbW3yvy6xTE8",
        "colab": {
          "base_uri": "https://localhost:8080/"
        },
        "outputId": "38345c18-7faf-4ce6-b97e-43ac42e786f1"
      },
      "source": [
        "pip install graphviz"
      ],
      "execution_count": 11,
      "outputs": [
        {
          "output_type": "stream",
          "name": "stdout",
          "text": [
            "Requirement already satisfied: graphviz in /usr/local/lib/python3.7/dist-packages (0.8.4)\n"
          ]
        }
      ]
    },
    {
      "cell_type": "code",
      "metadata": {
        "id": "rCGL_v4Ged06",
        "colab": {
          "base_uri": "https://localhost:8080/",
          "height": 34
        },
        "outputId": "f858336f-9c2c-4242-f678-15e40a1f1ee2"
      },
      "source": [
        "import tensorflow as tf\n",
        "tf.test.gpu_device_name()\n"
      ],
      "execution_count": 12,
      "outputs": [
        {
          "output_type": "execute_result",
          "data": {
            "application/vnd.google.colaboratory.intrinsic+json": {
              "type": "string"
            },
            "text/plain": [
              "''"
            ]
          },
          "metadata": {},
          "execution_count": 12
        }
      ]
    },
    {
      "cell_type": "code",
      "metadata": {
        "id": "x4rw_Cpff-Ht",
        "colab": {
          "base_uri": "https://localhost:8080/"
        },
        "outputId": "78bc13f4-1a44-4355-a84f-b1cee2440f02"
      },
      "source": [
        "from tensorflow.python.client import device_lib\n",
        "device_lib.list_local_devices()\n"
      ],
      "execution_count": 13,
      "outputs": [
        {
          "output_type": "execute_result",
          "data": {
            "text/plain": [
              "[name: \"/device:CPU:0\"\n",
              " device_type: \"CPU\"\n",
              " memory_limit: 268435456\n",
              " locality {\n",
              " }\n",
              " incarnation: 7644389772183259944\n",
              " xla_global_id: -1]"
            ]
          },
          "metadata": {},
          "execution_count": 13
        }
      ]
    },
    {
      "cell_type": "markdown",
      "metadata": {
        "id": "5QSv3uXfs6Yz"
      },
      "source": [
        "**0.3.2 - Importe biliotecas do Sistema Operacional**"
      ]
    },
    {
      "cell_type": "code",
      "metadata": {
        "id": "78EOTc1w7A91"
      },
      "source": [
        "import os, sys "
      ],
      "execution_count": 14,
      "outputs": []
    },
    {
      "cell_type": "markdown",
      "metadata": {
        "id": "u7o2z1ABhews"
      },
      "source": [
        "  ."
      ]
    },
    {
      "cell_type": "markdown",
      "metadata": {
        "id": "pd9MsQuoW2OA"
      },
      "source": [
        "**0.3.3 - Importe biblioteca do google colab**"
      ]
    },
    {
      "cell_type": "code",
      "metadata": {
        "id": "nchqyOmWDDrP"
      },
      "source": [
        "import glob\n",
        "import pandas as pd\n",
        "from google.colab import files"
      ],
      "execution_count": 15,
      "outputs": []
    },
    {
      "cell_type": "code",
      "metadata": {
        "colab": {
          "base_uri": "https://localhost:8080/"
        },
        "id": "Bt4bAWId_xZ9",
        "outputId": "86951141-0b22-4fe1-8832-185fb3103147"
      },
      "source": [
        "!cat /proc/meminfo"
      ],
      "execution_count": 31,
      "outputs": [
        {
          "output_type": "stream",
          "name": "stdout",
          "text": [
            "MemTotal:       13302924 kB\n",
            "MemFree:         9133284 kB\n",
            "MemAvailable:   12280340 kB\n",
            "Buffers:          130832 kB\n",
            "Cached:          3110056 kB\n",
            "SwapCached:            0 kB\n",
            "Active:          1164412 kB\n",
            "Inactive:        2745256 kB\n",
            "Active(anon):     600936 kB\n",
            "Inactive(anon):      436 kB\n",
            "Active(file):     563476 kB\n",
            "Inactive(file):  2744820 kB\n",
            "Unevictable:           0 kB\n",
            "Mlocked:               0 kB\n",
            "SwapTotal:             0 kB\n",
            "SwapFree:              0 kB\n",
            "Dirty:               480 kB\n",
            "Writeback:             0 kB\n",
            "AnonPages:        668792 kB\n",
            "Mapped:           451956 kB\n",
            "Shmem:              1176 kB\n",
            "KReclaimable:     160472 kB\n",
            "Slab:             204268 kB\n",
            "SReclaimable:     160472 kB\n",
            "SUnreclaim:        43796 kB\n",
            "KernelStack:        5792 kB\n",
            "PageTables:         8984 kB\n",
            "NFS_Unstable:          0 kB\n",
            "Bounce:                0 kB\n",
            "WritebackTmp:          0 kB\n",
            "CommitLimit:     6651460 kB\n",
            "Committed_AS:    3871204 kB\n",
            "VmallocTotal:   34359738367 kB\n",
            "VmallocUsed:        8280 kB\n",
            "VmallocChunk:          0 kB\n",
            "Percpu:             1568 kB\n",
            "AnonHugePages:         0 kB\n",
            "ShmemHugePages:        0 kB\n",
            "ShmemPmdMapped:        0 kB\n",
            "FileHugePages:         0 kB\n",
            "FilePmdMapped:         0 kB\n",
            "CmaTotal:              0 kB\n",
            "CmaFree:               0 kB\n",
            "HugePages_Total:       0\n",
            "HugePages_Free:        0\n",
            "HugePages_Rsvd:        0\n",
            "HugePages_Surp:        0\n",
            "Hugepagesize:       2048 kB\n",
            "Hugetlb:               0 kB\n",
            "DirectMap4k:       97088 kB\n",
            "DirectMap2M:     5142528 kB\n",
            "DirectMap1G:    10485760 kB\n"
          ]
        }
      ]
    },
    {
      "cell_type": "markdown",
      "metadata": {
        "id": "9iB85o0TO55a"
      },
      "source": [
        " .\n",
        " "
      ]
    },
    {
      "cell_type": "markdown",
      "metadata": {
        "id": "pVUA0qfkWeLs"
      },
      "source": [
        "**1 - Indentificação do local onde se trabalhando com os arquivos**"
      ]
    },
    {
      "cell_type": "markdown",
      "metadata": {
        "id": "rfXBnix3RyHZ"
      },
      "source": [
        "**1.1 - Estratégia 1 - Crie de arquivos no colab**"
      ]
    },
    {
      "cell_type": "code",
      "metadata": {
        "id": "VktUXn6QxYWb"
      },
      "source": [
        "import pandas as pd\n",
        "import numpy as np"
      ],
      "execution_count": 16,
      "outputs": []
    },
    {
      "cell_type": "markdown",
      "metadata": {
        "id": "IwZQVVpN6QjY"
      },
      "source": [
        "**1.1.1 - Monte o Google Drive e a unidade de importação google.colab**\n",
        "\n",
        "**1.1.2 - Clique no link colb e autentique (copie a senha e cole no colab) para montar e acessar seu gdrive**.\n"
      ]
    },
    {
      "cell_type": "code",
      "metadata": {
        "colab": {
          "base_uri": "https://localhost:8080/"
        },
        "id": "2g19G3IzDnWv",
        "outputId": "e83356ad-c9dc-42d6-94e2-9dc532052b96"
      },
      "source": [
        "from google.colab import drive\n",
        "\n",
        "drive.mount('/content/gdrive')"
      ],
      "execution_count": 19,
      "outputs": [
        {
          "output_type": "stream",
          "name": "stdout",
          "text": [
            "Mounted at /content/gdrive\n"
          ]
        }
      ]
    },
    {
      "cell_type": "code",
      "metadata": {
        "id": "BPeGxDg5OHqz"
      },
      "source": [
        "from google.colab import auth\n",
        "auth.authenticate_user()\n",
        "\n",
        "from googleapiclient.discovery import build\n",
        "drive_service = build('drive', 'v3')"
      ],
      "execution_count": 20,
      "outputs": []
    },
    {
      "cell_type": "code",
      "metadata": {
        "colab": {
          "base_uri": "https://localhost:8080/"
        },
        "id": "i3Vy-b_Y0AXL",
        "outputId": "615c2850-d298-46e6-93e4-744afe0b21ba"
      },
      "source": [
        "#/content/gdrive/\n",
        "diretorio = '/content/gdrive/My Drive/Livro_Python'\n",
        "os.chdir(diretorio)\n",
        "print(\"Diretorio localizado: %s:\" % os.getcwd())\n",
        "os.listdir(os.getcwd())"
      ],
      "execution_count": 21,
      "outputs": [
        {
          "output_type": "stream",
          "name": "stdout",
          "text": [
            "Diretorio localizado: /content/gdrive/My Drive/Livro_Python:\n"
          ]
        },
        {
          "output_type": "execute_result",
          "data": {
            "text/plain": [
              "['Copy_of_C13_Estatistica.ipynb',\n",
              " 'breast-cancer-wisconsin.csv',\n",
              " 'glass.csv',\n",
              " 'titanic.csv',\n",
              " 'titanic (1).csv',\n",
              " 'CSV_COLUMNS.csv']"
            ]
          },
          "metadata": {},
          "execution_count": 21
        }
      ]
    },
    {
      "cell_type": "code",
      "metadata": {
        "colab": {
          "base_uri": "https://localhost:8080/"
        },
        "id": "4lj8LKRYwPoQ",
        "outputId": "91dc2ef9-a59b-4f54-b56c-1523db3900da"
      },
      "source": [
        "\n",
        "!ls \"/content/gdrive/MyDrive/Livro_Python\"\n"
      ],
      "execution_count": 22,
      "outputs": [
        {
          "output_type": "stream",
          "name": "stdout",
          "text": [
            " breast-cancer-wisconsin.csv\t CSV_COLUMNS.csv  'titanic (1).csv'\n",
            " Copy_of_C13_Estatistica.ipynb\t glass.csv\t   titanic.csv\n"
          ]
        }
      ]
    },
    {
      "cell_type": "code",
      "metadata": {
        "colab": {
          "base_uri": "https://localhost:8080/",
          "height": 355
        },
        "id": "-aA21N4FF8Nj",
        "outputId": "f2f89523-79da-41b0-ebb1-66f650e8c620"
      },
      "source": [
        "CSV_COLUMNS = ['a', 'b', 'c', 'd', 'e', 'f', 'g', 'h', 'i', 'j']\n",
        "df = pd.DataFrame(CSV_COLUMNS)\n",
        "df.head(10)\n"
      ],
      "execution_count": 99,
      "outputs": [
        {
          "output_type": "execute_result",
          "data": {
            "text/html": [
              "<div>\n",
              "<style scoped>\n",
              "    .dataframe tbody tr th:only-of-type {\n",
              "        vertical-align: middle;\n",
              "    }\n",
              "\n",
              "    .dataframe tbody tr th {\n",
              "        vertical-align: top;\n",
              "    }\n",
              "\n",
              "    .dataframe thead th {\n",
              "        text-align: right;\n",
              "    }\n",
              "</style>\n",
              "<table border=\"1\" class=\"dataframe\">\n",
              "  <thead>\n",
              "    <tr style=\"text-align: right;\">\n",
              "      <th></th>\n",
              "      <th>0</th>\n",
              "    </tr>\n",
              "  </thead>\n",
              "  <tbody>\n",
              "    <tr>\n",
              "      <th>0</th>\n",
              "      <td>a</td>\n",
              "    </tr>\n",
              "    <tr>\n",
              "      <th>1</th>\n",
              "      <td>b</td>\n",
              "    </tr>\n",
              "    <tr>\n",
              "      <th>2</th>\n",
              "      <td>c</td>\n",
              "    </tr>\n",
              "    <tr>\n",
              "      <th>3</th>\n",
              "      <td>d</td>\n",
              "    </tr>\n",
              "    <tr>\n",
              "      <th>4</th>\n",
              "      <td>e</td>\n",
              "    </tr>\n",
              "    <tr>\n",
              "      <th>5</th>\n",
              "      <td>f</td>\n",
              "    </tr>\n",
              "    <tr>\n",
              "      <th>6</th>\n",
              "      <td>g</td>\n",
              "    </tr>\n",
              "    <tr>\n",
              "      <th>7</th>\n",
              "      <td>h</td>\n",
              "    </tr>\n",
              "    <tr>\n",
              "      <th>8</th>\n",
              "      <td>i</td>\n",
              "    </tr>\n",
              "    <tr>\n",
              "      <th>9</th>\n",
              "      <td>j</td>\n",
              "    </tr>\n",
              "  </tbody>\n",
              "</table>\n",
              "</div>"
            ],
            "text/plain": [
              "   0\n",
              "0  a\n",
              "1  b\n",
              "2  c\n",
              "3  d\n",
              "4  e\n",
              "5  f\n",
              "6  g\n",
              "7  h\n",
              "8  i\n",
              "9  j"
            ]
          },
          "metadata": {},
          "execution_count": 99
        }
      ]
    },
    {
      "cell_type": "code",
      "metadata": {
        "colab": {
          "base_uri": "https://localhost:8080/",
          "height": 33
        },
        "id": "Oyx5l8Wm1S_n",
        "outputId": "c0f948b8-1918-4fd0-8257-8669049916be"
      },
      "source": [
        "df.to_csv('CSV_COLUMNS.csv') \n",
        "files.download('CSV_COLUMNS.csv')"
      ],
      "execution_count": 100,
      "outputs": [
        {
          "output_type": "display_data",
          "data": {
            "application/javascript": [
              "\n",
              "    async function download(id, filename, size) {\n",
              "      if (!google.colab.kernel.accessAllowed) {\n",
              "        return;\n",
              "      }\n",
              "      const div = document.createElement('div');\n",
              "      const label = document.createElement('label');\n",
              "      label.textContent = `Downloading \"${filename}\": `;\n",
              "      div.appendChild(label);\n",
              "      const progress = document.createElement('progress');\n",
              "      progress.max = size;\n",
              "      div.appendChild(progress);\n",
              "      document.body.appendChild(div);\n",
              "\n",
              "      const buffers = [];\n",
              "      let downloaded = 0;\n",
              "\n",
              "      const channel = await google.colab.kernel.comms.open(id);\n",
              "      // Send a message to notify the kernel that we're ready.\n",
              "      channel.send({})\n",
              "\n",
              "      for await (const message of channel.messages) {\n",
              "        // Send a message to notify the kernel that we're ready.\n",
              "        channel.send({})\n",
              "        if (message.buffers) {\n",
              "          for (const buffer of message.buffers) {\n",
              "            buffers.push(buffer);\n",
              "            downloaded += buffer.byteLength;\n",
              "            progress.value = downloaded;\n",
              "          }\n",
              "        }\n",
              "      }\n",
              "      const blob = new Blob(buffers, {type: 'application/binary'});\n",
              "      const a = document.createElement('a');\n",
              "      a.href = window.URL.createObjectURL(blob);\n",
              "      a.download = filename;\n",
              "      div.appendChild(a);\n",
              "      a.click();\n",
              "      div.remove();\n",
              "    }\n",
              "  "
            ],
            "text/plain": [
              "<IPython.core.display.Javascript object>"
            ]
          },
          "metadata": {}
        },
        {
          "output_type": "display_data",
          "data": {
            "application/javascript": [
              "download(\"download_679802b3-d1af-46a2-8581-bdffc0e11aca\", \"CSV_COLUMNS.csv\", 43)"
            ],
            "text/plain": [
              "<IPython.core.display.Javascript object>"
            ]
          },
          "metadata": {}
        }
      ]
    },
    {
      "cell_type": "markdown",
      "metadata": {
        "id": "Qcg-IOEzSFdU"
      },
      "source": [
        " ."
      ]
    },
    {
      "cell_type": "markdown",
      "metadata": {
        "id": "uvfibfMUtCf_"
      },
      "source": [
        " **1.2 Estratégia 2 - Importação de arquvios diretamente por meio de comando a partir do diretório local para Collab.**"
      ]
    },
    {
      "cell_type": "markdown",
      "metadata": {
        "id": "8OC1fZ2WOV7a"
      },
      "source": [
        "  **1.2.1 Acesse e Liste o Diretorio montado a partir do Google Drive**"
      ]
    },
    {
      "cell_type": "code",
      "metadata": {
        "colab": {
          "base_uri": "https://localhost:8080/"
        },
        "id": "3JZ4ERp2ETBo",
        "outputId": "d03d6ec9-4da6-4c82-f1bc-55e93e6dfb2d"
      },
      "source": [
        "diretorio = '/content/gdrive/My Drive/Livro_Python'\n",
        "os.chdir(diretorio)\n",
        "print(\"Diretorio localizado: %s:\" % os.getcwd())\n",
        "os.listdir(os.getcwd())"
      ],
      "execution_count": 23,
      "outputs": [
        {
          "output_type": "stream",
          "name": "stdout",
          "text": [
            "Diretorio localizado: /content/gdrive/My Drive/Livro_Python:\n"
          ]
        },
        {
          "output_type": "execute_result",
          "data": {
            "text/plain": [
              "['Copy_of_C13_Estatistica.ipynb',\n",
              " 'breast-cancer-wisconsin.csv',\n",
              " 'glass.csv',\n",
              " 'titanic.csv',\n",
              " 'titanic (1).csv',\n",
              " 'CSV_COLUMNS.csv']"
            ]
          },
          "metadata": {},
          "execution_count": 23
        }
      ]
    },
    {
      "cell_type": "code",
      "metadata": {
        "colab": {
          "base_uri": "https://localhost:8080/"
        },
        "id": "GNw-YgEc8P7-",
        "outputId": "3916c4ab-e4ba-4a6d-9ad9-fbebbaf4a1e5"
      },
      "source": [
        "print(\"Diretorio localizado: %s:\" % os.getcwd())"
      ],
      "execution_count": 24,
      "outputs": [
        {
          "output_type": "stream",
          "name": "stdout",
          "text": [
            "Diretorio localizado: /content/gdrive/My Drive/Livro_Python:\n"
          ]
        }
      ]
    },
    {
      "cell_type": "code",
      "metadata": {
        "colab": {
          "resources": {
            "http://localhost:8080/nbextensions/google.colab/files.js": {
              "data": "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",
              "ok": true,
              "headers": [
                [
                  "content-type",
                  "application/javascript"
                ]
              ],
              "status": 200,
              "status_text": ""
            }
          },
          "base_uri": "https://localhost:8080/",
          "height": 72
        },
        "id": "DOdXaFBPQ-7P",
        "outputId": "20197b89-e9ad-441f-f346-c21c076294a3"
      },
      "source": [
        "uploaded = files.upload()"
      ],
      "execution_count": 85,
      "outputs": [
        {
          "output_type": "display_data",
          "data": {
            "text/html": [
              "\n",
              "     <input type=\"file\" id=\"files-4f626e47-f8d6-4c08-833d-267d4db39a6b\" name=\"files[]\" multiple disabled\n",
              "        style=\"border:none\" />\n",
              "     <output id=\"result-4f626e47-f8d6-4c08-833d-267d4db39a6b\">\n",
              "      Upload widget is only available when the cell has been executed in the\n",
              "      current browser session. Please rerun this cell to enable.\n",
              "      </output>\n",
              "      <script src=\"/nbextensions/google.colab/files.js\"></script> "
            ],
            "text/plain": [
              "<IPython.core.display.HTML object>"
            ]
          },
          "metadata": {}
        },
        {
          "output_type": "stream",
          "name": "stdout",
          "text": [
            "Saving titanic.csv to titanic (1).csv\n"
          ]
        }
      ]
    },
    {
      "cell_type": "code",
      "metadata": {
        "colab": {
          "base_uri": "https://localhost:8080/",
          "height": 16
        },
        "id": "-oyDXRDAnL11",
        "outputId": "62309e98-d015-467d-8032-56e8343981ab"
      },
      "source": [
        "files.view('titanic.csv')"
      ],
      "execution_count": 25,
      "outputs": [
        {
          "output_type": "display_data",
          "data": {
            "application/javascript": [
              "\n",
              "      ((filepath) => {{\n",
              "        if (!google.colab.kernel.accessAllowed) {{\n",
              "          return;\n",
              "        }}\n",
              "        google.colab.files.view(filepath);\n",
              "      }})(\"/content/gdrive/My Drive/Livro_Python/titanic.csv\")"
            ],
            "text/plain": [
              "<IPython.core.display.Javascript object>"
            ]
          },
          "metadata": {}
        }
      ]
    },
    {
      "cell_type": "code",
      "metadata": {
        "id": "C_8SlQdmU6M6"
      },
      "source": [
        "# !rm titanic.csv"
      ],
      "execution_count": null,
      "outputs": []
    },
    {
      "cell_type": "markdown",
      "metadata": {
        "id": "br7rDv0aYc8i"
      },
      "source": [
        " ."
      ]
    },
    {
      "cell_type": "markdown",
      "metadata": {
        "id": "ifAJhH9SZPbe"
      },
      "source": [
        "**3 - Atualização do programa para a execução da Análise de dados.**"
      ]
    },
    {
      "cell_type": "markdown",
      "metadata": {
        "id": "DEdDWtLHZGBi"
      },
      "source": [
        "**3.1 - Importe as biliotecas pandas, matplotlib e seaborn**"
      ]
    },
    {
      "cell_type": "code",
      "metadata": {
        "colab": {
          "base_uri": "https://localhost:8080/"
        },
        "id": "oUNbWYoNJAja",
        "outputId": "596febad-5366-4942-9a6e-15575ac6515b"
      },
      "source": [
        "import pandas as pd\n",
        "import matplotlib.pyplot as plt\n",
        "import seaborn as sns\n",
        "from sklearn.preprocessing import LabelEncoder\n",
        "from sklearn.manifold import TSNE\n",
        "%pylab inline\n",
        "from IPython.display import Markdown, display\n",
        "#For displaying titles\n",
        "def printmrdwn(string):\n",
        "    display(Markdown(string))"
      ],
      "execution_count": 29,
      "outputs": [
        {
          "output_type": "stream",
          "name": "stdout",
          "text": [
            "Populating the interactive namespace from numpy and matplotlib\n"
          ]
        }
      ]
    },
    {
      "cell_type": "markdown",
      "metadata": {
        "id": "lOqvRwetaM_e"
      },
      "source": [
        " **3.2 - Utilize o seguinte programa a fim de criar os objetos python para análise dos dados**"
      ]
    },
    {
      "cell_type": "code",
      "metadata": {
        "id": "KfjQe3uNJgOs"
      },
      "source": [
        "def plot_data(Dataset_name,X_data,y_target):\n",
        "    model =TSNE(n_components=2,random_state=0,perplexity=30,n_iter=1000)\n",
        "    tsne_data=model.fit_transform(X_data)\n",
        "    tsne_datastack=np.vstack((tsne_data.T,y_target)).T\n",
        "    tsne_df=pd.DataFrame(data=tsne_datastack,columns=(\"Dim_1\",\"Dim_2\",\"class\"))\n",
        "    sn=sns.FacetGrid(tsne_df,hue=\"class\",size=4)\n",
        "    sn.map(plt.scatter,'Dim_1','Dim_2',alpha=1, \n",
        "          edgecolor='white', linewidth=0.25, s=100).add_legend(title=\"class\")\n",
        "    plt.axis('off')\n",
        "    plt.title(Dataset_name)\n",
        "    plt.show()"
      ],
      "execution_count": 17,
      "outputs": []
    },
    {
      "cell_type": "code",
      "metadata": {
        "id": "UWemioPcBgKB"
      },
      "source": [
        ""
      ],
      "execution_count": null,
      "outputs": []
    },
    {
      "cell_type": "markdown",
      "metadata": {
        "id": "-aoxOlb23wsz"
      },
      "source": [
        "  ."
      ]
    },
    {
      "cell_type": "markdown",
      "metadata": {
        "id": "Pt1pefLHalim"
      },
      "source": [
        "**3.3 - Utilize a base de dados escolhida para realizar o abstesimento dos objetos python**"
      ]
    },
    {
      "cell_type": "code",
      "metadata": {
        "id": "a3ISOMZDJmxb"
      },
      "source": [
        "#Titanic Dataset\n",
        "#https://www.kaggle.com/c/titanic/data\n",
        "def get_titanic_data():\n",
        "    df_titanic=pd.read_csv('titanic.csv',)\n",
        "    #Remove unnecessary columns (body= Body Indentification number, Name= Name)\n",
        "    df_titanic.drop(['name','body'],1,inplace=True)\n",
        "    #Fill all the na  \n",
        "    df_titanic.cabin.fillna('unknown',inplace=True)\n",
        "    df_titanic.age.fillna(df_titanic['age'].mean(),inplace=True)\n",
        "    df_titanic.fillna(0,inplace=True)\n",
        "    #Covert nonnumeric value into numeric\n",
        "    df_titanic['sex'] = LabelEncoder().fit_transform(df_titanic['sex'])\n",
        "    df_titanic['cabin'] = LabelEncoder().fit_transform(df_titanic['cabin'].astype(str))\n",
        "    df_titanic['embarked'] = LabelEncoder().fit_transform(df_titanic['embarked'].astype(str))\n",
        "    df_titanic['home.dest'] = LabelEncoder().fit_transform(df_titanic['home.dest'].astype(str))\n",
        "    df_titanic['ticket'] = LabelEncoder().fit_transform(df_titanic['ticket'])\n",
        "    df_titanic['boat'] = LabelEncoder().fit_transform(df_titanic['boat'].astype(str))\n",
        "    # df_titanic.head()\n",
        "    # df_titanic.dtypes\n",
        "    # print(df_titanic.isnull().sum())\n",
        "    X = df_titanic.drop(\"pclass\", axis = 1)\n",
        "    y = df_titanic['pclass']\n",
        "    print(\"\\n** Titanic Dataset **\\n\\n\",X.head())\n",
        "    print(\"\\n** Class Column **\\n\",y.head())    \n",
        "    return X,y"
      ],
      "execution_count": 32,
      "outputs": []
    },
    {
      "cell_type": "markdown",
      "metadata": {
        "id": "CEmIeGqla80u"
      },
      "source": [
        "**3.4 - Plote os as análise e gráficos do programa**"
      ]
    },
    {
      "cell_type": "code",
      "metadata": {
        "colab": {
          "base_uri": "https://localhost:8080/",
          "height": 726
        },
        "id": "yRaBgGmaKrbo",
        "outputId": "767313f3-d1b5-4f63-b31a-3e8a53e60c42"
      },
      "source": [
        "X_titanic,y_titanic=get_titanic_data()\n",
        "plot_data(\"Titanic Data\",X_titanic,y_titanic)"
      ],
      "execution_count": null,
      "outputs": [
        {
          "output_type": "stream",
          "name": "stdout",
          "text": [
            "\n",
            "** Titanic Dataset **\n",
            "\n",
            "    survived  sex      age  sibsp  ...  cabin  embarked  boat  home.dest\n",
            "0         1    0  29.0000      0  ...     43         3    12        309\n",
            "1         1    1   0.9167      1  ...     79         3     3        231\n",
            "2         0    0   2.0000      1  ...     79         3     0        231\n",
            "3         0    1  30.0000      1  ...     79         3     0        231\n",
            "4         0    0  25.0000      1  ...     79         3     0        231\n",
            "\n",
            "[5 rows x 11 columns]\n",
            "\n",
            "** Class Column **\n",
            " 0    1\n",
            "1    1\n",
            "2    1\n",
            "3    1\n",
            "4    1\n",
            "Name: pclass, dtype: int64\n"
          ]
        },
        {
          "output_type": "stream",
          "name": "stderr",
          "text": [
            "/usr/local/lib/python3.7/dist-packages/sklearn/manifold/_t_sne.py:783: FutureWarning: The default initialization in TSNE will change from 'random' to 'pca' in 1.2.\n",
            "  FutureWarning,\n",
            "/usr/local/lib/python3.7/dist-packages/sklearn/manifold/_t_sne.py:793: FutureWarning: The default learning rate in TSNE will change from 200.0 to 'auto' in 1.2.\n",
            "  FutureWarning,\n",
            "/usr/local/lib/python3.7/dist-packages/seaborn/axisgrid.py:337: UserWarning: The `size` parameter has been renamed to `height`; please update your code.\n",
            "  warnings.warn(msg, UserWarning)\n"
          ]
        },
        {
          "output_type": "display_data",
          "data": {
            "image/png": "[encoded data removed]",
            "text/plain": [
              "<Figure size 339.875x288 with 1 Axes>"
            ]
          },
          "metadata": {
            "needs_background": "light"
          }
        }
      ]
    },
    {
      "cell_type": "markdown",
      "metadata": {
        "id": "_UZ7zbHoVeJw"
      },
      "source": [
        " . \n",
        " "
      ]
    },
    {
      "cell_type": "markdown",
      "metadata": {
        "id": "r0nzkYPBZhll"
      },
      "source": [
        "**4 - Remoção dos arquivos desnecessários no sistema**"
      ]
    },
    {
      "cell_type": "markdown",
      "metadata": {
        "id": "AID-hnfNVQ4m"
      },
      "source": [
        "**4 - Apague os arquivos desnecessários**"
      ]
    },
    {
      "cell_type": "code",
      "metadata": {
        "id": "fXyc_kdWZAaW"
      },
      "source": [
        "# os.chdir('/content/')\n",
        "print(\"Diretorio localizado: %s:\" % os.getcwd())\n",
        "os.listdir(os.getcwd())"
      ],
      "execution_count": null,
      "outputs": []
    },
    {
      "cell_type": "code",
      "metadata": {
        "id": "NXWpuR8TVRW1"
      },
      "source": [
        "!rm titanic.csv"
      ],
      "execution_count": null,
      "outputs": []
    }
  ]
}