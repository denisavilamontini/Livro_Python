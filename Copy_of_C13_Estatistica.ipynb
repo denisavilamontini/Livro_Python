{
  "nbformat": 4,
  "nbformat_minor": 0,
  "metadata": {
    "colab": {
      "name": "Copy of C13-Estatistica.ipynb",
      "provenance": []
    },
    "kernelspec": {
      "name": "python3",
      "display_name": "Python 3"
    },
    "language_info": {
      "name": "python"
    },
    "accelerator": "GPU"
  },
  "cells": [
    {
      "cell_type": "code",
      "metadata": {
        "colab": {
          "base_uri": "https://localhost:8080/"
        },
        "id": "Y_DqO6_URa9n",
        "outputId": "60752d01-cb76-4ea7-e5f5-0254af5c6de1"
      },
      "source": [
        "import time\n",
        "print(time.ctime())"
      ],
      "execution_count": null,
      "outputs": [
        {
          "output_type": "stream",
          "name": "stdout",
          "text": [
            "Mon Nov 15 16:19:13 2021\n"
          ]
        }
      ]
    },
    {
      "cell_type": "code",
      "metadata": {
        "colab": {
          "base_uri": "https://localhost:8080/"
        },
        "id": "KkNE3PetY3Kg",
        "outputId": "ef9a1d60-3b3e-4b78-aba9-d91d02543973"
      },
      "source": [
        "time.sleep(10)\n",
        "print (time.ctime())\n"
      ],
      "execution_count": null,
      "outputs": [
        {
          "output_type": "stream",
          "name": "stdout",
          "text": [
            "Mon Nov 15 16:19:24 2021\n"
          ]
        }
      ]
    },
    {
      "cell_type": "code",
      "metadata": {
        "colab": {
          "base_uri": "https://localhost:8080/"
        },
        "id": "OQZmGCdthJ9Z",
        "outputId": "a098bc06-c58b-47ee-f65c-96c67c2d2f47"
      },
      "source": [
        "pip install Keras"
      ],
      "execution_count": null,
      "outputs": [
        {
          "output_type": "stream",
          "name": "stdout",
          "text": [
            "Requirement already satisfied: Keras in /usr/local/lib/python3.7/dist-packages (2.7.0)\n"
          ]
        }
      ]
    },
    {
      "cell_type": "code",
      "metadata": {
        "colab": {
          "base_uri": "https://localhost:8080/"
        },
        "id": "X8NQ4i2fiQO3",
        "outputId": "f623373b-1a24-45a4-d4f5-4d645aaff7e7"
      },
      "source": [
        "!pip3 install torch torchvision"
      ],
      "execution_count": null,
      "outputs": [
        {
          "output_type": "stream",
          "name": "stdout",
          "text": [
            "Requirement already satisfied: torch in /usr/local/lib/python3.7/dist-packages (1.10.0+cu111)\n",
            "Requirement already satisfied: torchvision in /usr/local/lib/python3.7/dist-packages (0.11.1+cu111)\n",
            "Requirement already satisfied: typing-extensions in /usr/local/lib/python3.7/dist-packages (from torch) (3.10.0.2)\n",
            "Requirement already satisfied: numpy in /usr/local/lib/python3.7/dist-packages (from torchvision) (1.19.5)\n",
            "Requirement already satisfied: pillow!=8.3.0,>=5.3.0 in /usr/local/lib/python3.7/dist-packages (from torchvision) (7.1.2)\n"
          ]
        }
      ]
    },
    {
      "cell_type": "code",
      "metadata": {
        "colab": {
          "base_uri": "https://localhost:8080/"
        },
        "id": "_cYsjwp7kRns",
        "outputId": "f207ce1b-06e6-46a4-f03e-5842bcd9220d"
      },
      "source": [
        "!pip install mxnet-cu80"
      ],
      "execution_count": null,
      "outputs": [
        {
          "output_type": "stream",
          "name": "stdout",
          "text": [
            "Collecting mxnet-cu80\n",
            "  Downloading mxnet_cu80-1.5.0-py2.py3-none-manylinux1_x86_64.whl (372.1 MB)\n",
            "\u001b[K     |████████████████████████████████| 372.1 MB 33 kB/s \n",
            "\u001b[?25hCollecting graphviz<0.9.0,>=0.8.1\n",
            "  Downloading graphviz-0.8.4-py2.py3-none-any.whl (16 kB)\n",
            "Requirement already satisfied: numpy<2.0.0,>1.16.0 in /usr/local/lib/python3.7/dist-packages (from mxnet-cu80) (1.19.5)\n",
            "Requirement already satisfied: requests<3,>=2.20.0 in /usr/local/lib/python3.7/dist-packages (from mxnet-cu80) (2.23.0)\n",
            "Requirement already satisfied: certifi>=2017.4.17 in /usr/local/lib/python3.7/dist-packages (from requests<3,>=2.20.0->mxnet-cu80) (2021.10.8)\n",
            "Requirement already satisfied: chardet<4,>=3.0.2 in /usr/local/lib/python3.7/dist-packages (from requests<3,>=2.20.0->mxnet-cu80) (3.0.4)\n",
            "Requirement already satisfied: idna<3,>=2.5 in /usr/local/lib/python3.7/dist-packages (from requests<3,>=2.20.0->mxnet-cu80) (2.10)\n",
            "Requirement already satisfied: urllib3!=1.25.0,!=1.25.1,<1.26,>=1.21.1 in /usr/local/lib/python3.7/dist-packages (from requests<3,>=2.20.0->mxnet-cu80) (1.24.3)\n",
            "Installing collected packages: graphviz, mxnet-cu80\n",
            "  Attempting uninstall: graphviz\n",
            "    Found existing installation: graphviz 0.10.1\n",
            "    Uninstalling graphviz-0.10.1:\n",
            "      Successfully uninstalled graphviz-0.10.1\n",
            "Successfully installed graphviz-0.8.4 mxnet-cu80-1.5.0\n"
          ]
        }
      ]
    },
    {
      "cell_type": "code",
      "metadata": {
        "colab": {
          "base_uri": "https://localhost:8080/"
        },
        "id": "R14dDVDOqFxs",
        "outputId": "26e1b567-7072-4bb6-a9e8-854303cd43d2"
      },
      "source": [
        "pip install opencv-python"
      ],
      "execution_count": null,
      "outputs": [
        {
          "output_type": "stream",
          "name": "stdout",
          "text": [
            "Requirement already satisfied: opencv-python in /usr/local/lib/python3.7/dist-packages (4.5.4.58)\n",
            "Requirement already satisfied: numpy>=1.14.5 in /usr/local/lib/python3.7/dist-packages (from opencv-python) (1.19.5)\n"
          ]
        }
      ]
    },
    {
      "cell_type": "code",
      "metadata": {
        "colab": {
          "base_uri": "https://localhost:8080/"
        },
        "id": "om24EPr2tbdn",
        "outputId": "5dfe2030-d1c9-4c77-ffa9-eb3edcc2d86b"
      },
      "source": [
        "!pip install -q xgboost==0.4a30"
      ],
      "execution_count": null,
      "outputs": [
        {
          "output_type": "stream",
          "name": "stdout",
          "text": [
            "\u001b[?25l\r\u001b[K     |▍                               | 10 kB 22.9 MB/s eta 0:00:01\r\u001b[K     |▉                               | 20 kB 27.4 MB/s eta 0:00:01\r\u001b[K     |█▎                              | 30 kB 24.9 MB/s eta 0:00:01\r\u001b[K     |█▊                              | 40 kB 19.3 MB/s eta 0:00:01\r\u001b[K     |██▏                             | 51 kB 8.4 MB/s eta 0:00:01\r\u001b[K     |██▋                             | 61 kB 9.7 MB/s eta 0:00:01\r\u001b[K     |███                             | 71 kB 9.1 MB/s eta 0:00:01\r\u001b[K     |███▌                            | 81 kB 10.0 MB/s eta 0:00:01\r\u001b[K     |████                            | 92 kB 10.6 MB/s eta 0:00:01\r\u001b[K     |████▍                           | 102 kB 8.0 MB/s eta 0:00:01\r\u001b[K     |████▉                           | 112 kB 8.0 MB/s eta 0:00:01\r\u001b[K     |█████▏                          | 122 kB 8.0 MB/s eta 0:00:01\r\u001b[K     |█████▋                          | 133 kB 8.0 MB/s eta 0:00:01\r\u001b[K     |██████                          | 143 kB 8.0 MB/s eta 0:00:01\r\u001b[K     |██████▌                         | 153 kB 8.0 MB/s eta 0:00:01\r\u001b[K     |███████                         | 163 kB 8.0 MB/s eta 0:00:01\r\u001b[K     |███████▍                        | 174 kB 8.0 MB/s eta 0:00:01\r\u001b[K     |███████▉                        | 184 kB 8.0 MB/s eta 0:00:01\r\u001b[K     |████████▎                       | 194 kB 8.0 MB/s eta 0:00:01\r\u001b[K     |████████▊                       | 204 kB 8.0 MB/s eta 0:00:01\r\u001b[K     |█████████▏                      | 215 kB 8.0 MB/s eta 0:00:01\r\u001b[K     |█████████▋                      | 225 kB 8.0 MB/s eta 0:00:01\r\u001b[K     |██████████                      | 235 kB 8.0 MB/s eta 0:00:01\r\u001b[K     |██████████▍                     | 245 kB 8.0 MB/s eta 0:00:01\r\u001b[K     |██████████▉                     | 256 kB 8.0 MB/s eta 0:00:01\r\u001b[K     |███████████▎                    | 266 kB 8.0 MB/s eta 0:00:01\r\u001b[K     |███████████▊                    | 276 kB 8.0 MB/s eta 0:00:01\r\u001b[K     |████████████▏                   | 286 kB 8.0 MB/s eta 0:00:01\r\u001b[K     |████████████▋                   | 296 kB 8.0 MB/s eta 0:00:01\r\u001b[K     |█████████████                   | 307 kB 8.0 MB/s eta 0:00:01\r\u001b[K     |█████████████▌                  | 317 kB 8.0 MB/s eta 0:00:01\r\u001b[K     |██████████████                  | 327 kB 8.0 MB/s eta 0:00:01\r\u001b[K     |██████████████▍                 | 337 kB 8.0 MB/s eta 0:00:01\r\u001b[K     |██████████████▉                 | 348 kB 8.0 MB/s eta 0:00:01\r\u001b[K     |███████████████▏                | 358 kB 8.0 MB/s eta 0:00:01\r\u001b[K     |███████████████▋                | 368 kB 8.0 MB/s eta 0:00:01\r\u001b[K     |████████████████                | 378 kB 8.0 MB/s eta 0:00:01\r\u001b[K     |████████████████▌               | 389 kB 8.0 MB/s eta 0:00:01\r\u001b[K     |█████████████████               | 399 kB 8.0 MB/s eta 0:00:01\r\u001b[K     |█████████████████▍              | 409 kB 8.0 MB/s eta 0:00:01\r\u001b[K     |█████████████████▉              | 419 kB 8.0 MB/s eta 0:00:01\r\u001b[K     |██████████████████▎             | 430 kB 8.0 MB/s eta 0:00:01\r\u001b[K     |██████████████████▊             | 440 kB 8.0 MB/s eta 0:00:01\r\u001b[K     |███████████████████▏            | 450 kB 8.0 MB/s eta 0:00:01\r\u001b[K     |███████████████████▋            | 460 kB 8.0 MB/s eta 0:00:01\r\u001b[K     |████████████████████            | 471 kB 8.0 MB/s eta 0:00:01\r\u001b[K     |████████████████████▍           | 481 kB 8.0 MB/s eta 0:00:01\r\u001b[K     |████████████████████▉           | 491 kB 8.0 MB/s eta 0:00:01\r\u001b[K     |█████████████████████▎          | 501 kB 8.0 MB/s eta 0:00:01\r\u001b[K     |█████████████████████▊          | 512 kB 8.0 MB/s eta 0:00:01\r\u001b[K     |██████████████████████▏         | 522 kB 8.0 MB/s eta 0:00:01\r\u001b[K     |██████████████████████▋         | 532 kB 8.0 MB/s eta 0:00:01\r\u001b[K     |███████████████████████         | 542 kB 8.0 MB/s eta 0:00:01\r\u001b[K     |███████████████████████▌        | 552 kB 8.0 MB/s eta 0:00:01\r\u001b[K     |████████████████████████        | 563 kB 8.0 MB/s eta 0:00:01\r\u001b[K     |████████████████████████▍       | 573 kB 8.0 MB/s eta 0:00:01\r\u001b[K     |████████████████████████▉       | 583 kB 8.0 MB/s eta 0:00:01\r\u001b[K     |█████████████████████████▏      | 593 kB 8.0 MB/s eta 0:00:01\r\u001b[K     |█████████████████████████▋      | 604 kB 8.0 MB/s eta 0:00:01\r\u001b[K     |██████████████████████████      | 614 kB 8.0 MB/s eta 0:00:01\r\u001b[K     |██████████████████████████▌     | 624 kB 8.0 MB/s eta 0:00:01\r\u001b[K     |███████████████████████████     | 634 kB 8.0 MB/s eta 0:00:01\r\u001b[K     |███████████████████████████▍    | 645 kB 8.0 MB/s eta 0:00:01\r\u001b[K     |███████████████████████████▉    | 655 kB 8.0 MB/s eta 0:00:01\r\u001b[K     |████████████████████████████▎   | 665 kB 8.0 MB/s eta 0:00:01\r\u001b[K     |████████████████████████████▊   | 675 kB 8.0 MB/s eta 0:00:01\r\u001b[K     |█████████████████████████████▏  | 686 kB 8.0 MB/s eta 0:00:01\r\u001b[K     |█████████████████████████████▋  | 696 kB 8.0 MB/s eta 0:00:01\r\u001b[K     |██████████████████████████████  | 706 kB 8.0 MB/s eta 0:00:01\r\u001b[K     |██████████████████████████████▍ | 716 kB 8.0 MB/s eta 0:00:01\r\u001b[K     |██████████████████████████████▉ | 727 kB 8.0 MB/s eta 0:00:01\r\u001b[K     |███████████████████████████████▎| 737 kB 8.0 MB/s eta 0:00:01\r\u001b[K     |███████████████████████████████▊| 747 kB 8.0 MB/s eta 0:00:01\r\u001b[K     |████████████████████████████████| 753 kB 8.0 MB/s \n",
            "\u001b[?25h  Building wheel for xgboost (setup.py) ... \u001b[?25l\u001b[?25hdone\n"
          ]
        }
      ]
    },
    {
      "cell_type": "code",
      "metadata": {
        "id": "XxtfecSExNV2"
      },
      "source": [
        "!apt-get -qq install -y graphviz && pip install -q pydot"
      ],
      "execution_count": null,
      "outputs": []
    },
    {
      "cell_type": "code",
      "metadata": {
        "colab": {
          "base_uri": "https://localhost:8080/"
        },
        "id": "AbW3yvy6xTE8",
        "outputId": "76cfb537-94b1-43d4-cb19-5479c7f0e446"
      },
      "source": [
        "pip install graphviz"
      ],
      "execution_count": null,
      "outputs": [
        {
          "output_type": "stream",
          "name": "stdout",
          "text": [
            "Requirement already satisfied: graphviz in /usr/local/lib/python3.7/dist-packages (0.8.4)\n"
          ]
        }
      ]
    },
    {
      "cell_type": "code",
      "metadata": {
        "colab": {
          "base_uri": "https://localhost:8080/",
          "height": 35
        },
        "id": "rCGL_v4Ged06",
        "outputId": "b55231ea-70fb-4ebd-ad3b-a8f60027332d"
      },
      "source": [
        "import tensorflow as tf\n",
        "tf.test.gpu_device_name()\n"
      ],
      "execution_count": null,
      "outputs": [
        {
          "output_type": "execute_result",
          "data": {
            "application/vnd.google.colaboratory.intrinsic+json": {
              "type": "string"
            },
            "text/plain": [
              "'/device:GPU:0'"
            ]
          },
          "metadata": {},
          "execution_count": 1
        }
      ]
    },
    {
      "cell_type": "code",
      "metadata": {
        "colab": {
          "base_uri": "https://localhost:8080/"
        },
        "id": "x4rw_Cpff-Ht",
        "outputId": "79e81405-fdfc-430b-9dba-d42f98fbb9e7"
      },
      "source": [
        "from tensorflow.python.client import device_lib\n",
        "device_lib.list_local_devices()\n"
      ],
      "execution_count": null,
      "outputs": [
        {
          "output_type": "execute_result",
          "data": {
            "text/plain": [
              "[name: \"/device:CPU:0\"\n",
              " device_type: \"CPU\"\n",
              " memory_limit: 268435456\n",
              " locality {\n",
              " }\n",
              " incarnation: 16742466777941784053\n",
              " xla_global_id: -1, name: \"/device:GPU:0\"\n",
              " device_type: \"GPU\"\n",
              " memory_limit: 11320098816\n",
              " locality {\n",
              "   bus_id: 1\n",
              "   links {\n",
              "   }\n",
              " }\n",
              " incarnation: 2832616165529506489\n",
              " physical_device_desc: \"device: 0, name: Tesla K80, pci bus id: 0000:00:04.0, compute capability: 3.7\"\n",
              " xla_global_id: 416903419]"
            ]
          },
          "metadata": {},
          "execution_count": 2
        }
      ]
    },
    {
      "cell_type": "code",
      "metadata": {
        "id": "wPMSLk8WiPXX"
      },
      "source": [
        ""
      ],
      "execution_count": null,
      "outputs": []
    },
    {
      "cell_type": "code",
      "metadata": {
        "colab": {
          "base_uri": "https://localhost:8080/"
        },
        "id": "G88xedR0g1p4",
        "outputId": "39874f61-1bcb-40fc-8183-ba6966e0226b"
      },
      "source": [
        "!cat /proc/meminfo"
      ],
      "execution_count": null,
      "outputs": [
        {
          "output_type": "stream",
          "name": "stdout",
          "text": [
            "MemTotal:       13302916 kB\n",
            "MemFree:         9569248 kB\n",
            "MemAvailable:   12050288 kB\n",
            "Buffers:          125644 kB\n",
            "Cached:          2387436 kB\n",
            "SwapCached:            0 kB\n",
            "Active:          1303500 kB\n",
            "Inactive:        2103160 kB\n",
            "Active(anon):     739168 kB\n",
            "Inactive(anon):     2528 kB\n",
            "Active(file):     564332 kB\n",
            "Inactive(file):  2100632 kB\n",
            "Unevictable:           0 kB\n",
            "Mlocked:               0 kB\n",
            "SwapTotal:             0 kB\n",
            "SwapFree:              0 kB\n",
            "Dirty:               220 kB\n",
            "Writeback:             0 kB\n",
            "AnonPages:        893580 kB\n",
            "Mapped:           637064 kB\n",
            "Shmem:              3276 kB\n",
            "KReclaimable:     115308 kB\n",
            "Slab:             168832 kB\n",
            "SReclaimable:     115308 kB\n",
            "SUnreclaim:        53524 kB\n",
            "KernelStack:        4960 kB\n",
            "PageTables:         9704 kB\n",
            "NFS_Unstable:          0 kB\n",
            "Bounce:                0 kB\n",
            "WritebackTmp:          0 kB\n",
            "CommitLimit:     6651456 kB\n",
            "Committed_AS:    3735732 kB\n",
            "VmallocTotal:   34359738367 kB\n",
            "VmallocUsed:       46696 kB\n",
            "VmallocChunk:          0 kB\n",
            "Percpu:             1448 kB\n",
            "AnonHugePages:      2048 kB\n",
            "ShmemHugePages:        0 kB\n",
            "ShmemPmdMapped:        0 kB\n",
            "FileHugePages:         0 kB\n",
            "FilePmdMapped:         0 kB\n",
            "CmaTotal:              0 kB\n",
            "CmaFree:               0 kB\n",
            "HugePages_Total:       0\n",
            "HugePages_Free:        0\n",
            "HugePages_Rsvd:        0\n",
            "HugePages_Surp:        0\n",
            "Hugepagesize:       2048 kB\n",
            "Hugetlb:               0 kB\n",
            "DirectMap4k:      195392 kB\n",
            "DirectMap2M:     6092800 kB\n",
            "DirectMap1G:     9437184 kB\n"
          ]
        }
      ]
    }
  ]
}